{
 "cells": [
  {
   "cell_type": "markdown",
   "id": "7e6ed360",
   "metadata": {},
   "source": [
    "\n",
    "# Curso de Bioinformática Aplicada aos Genomas de Microrganismos Causadores de Doenças Infecciosas\n",
    "\n",
    "![PhD4Moz Logo](phd4moz.png) \n",
    "\n",
    "Bem-vindo ao curso de Bioinformática aplicada à análise de genomas de microrganismos! Este curso irá proporcionar uma introdução prática à bioinformática com um foco especial nas aplicações genômicas em doenças infecciosas.\n",
    "\n",
    "## Datas do Curso:\n",
    "**Início**: 21 de Outubro de 2024  \n",
    "**Término**: 01 de Novembro de 2024  \n",
    "Facilitadores: José Sumbana (FAMED-UEM), Samuel Chumane (INS), Denise Brito (CB-UEM), Nuno Osório (UMinho), e David Plaza (KI).\n",
    "\n",
    "Nesta sessão pré-curso, iremos partilhar algumas materiais que vamos utilizar, responder a perguntas interativas e enviar informações aos professores para que eles possam ajustar o conteúdo às suas necessidades. Vamos começar! 🚀\n"
   ]
  },
  {
   "cell_type": "markdown",
   "id": "b85229dc",
   "metadata": {},
   "source": [
    "\n",
    "## 📊 Queremos saber mais sobre vocês!\n",
    "\n",
    "Responda às perguntas abaixo, atribuindo uma nota de 0 a 5 para cada uma. A nota 0 significa \"nenhum interesse/experiência\" e a nota 5 significa \"máximo interesse/experiência\".\n"
   ]
  },
  {
   "cell_type": "code",
   "execution_count": 1,
   "id": "eee77546",
   "metadata": {},
   "outputs": [
    {
     "name": "stdout",
     "output_type": "stream",
     "text": [
      "Bem-vindo ao nosso curso! Vamos conhecer um pouco mais sobre você! 😊\n",
      "Interesse em Bioinformática: 5/5\n",
      "Nível de experiência: 0/5\n",
      "Expectativa para aprender novas ferramentas: 5/5\n"
     ]
    }
   ],
   "source": [
    "\n",
    "# Coletando notas de 0 a 5 sobre os interesses e expectativas\n",
    "print(\"Bem-vindo ao nosso curso! Vamos conhecer um pouco mais sobre você! 😊\")\n",
    "\n",
    "# Coleta de notas\n",
    "nota_interesse = int(input(\"Qual é o seu interesse em Bioinformática (0 a 5)? \"))\n",
    "nota_experiencia = int(input(\"Qual é o seu nível de experiência em Bioinformática (0 a 5)? \"))\n",
    "nota_expectativas = int(input(\"Qual é a sua expectativa para aprender novas ferramentas (0 a 5)? \"))\n",
    "\n",
    "# Exibindo as notas\n",
    "print(f\"Interesse em Bioinformática: {nota_interesse}/5\")\n",
    "print(f\"Nível de experiência: {nota_experiencia}/5\")\n",
    "print(f\"Expectativa para aprender novas ferramentas: {nota_expectativas}/5\")\n",
    "# Visualizando as notas do candidato\n",
    "import matplotlib.pyplot as plt\n",
    "\n",
    "# Dados com as notas\n",
    "categorias = ['Interesse em Bioinformática', 'Experiência', 'Expectativas']\n",
    "notas = [nota_interesse, nota_experiencia, nota_expectativas]\n",
    "\n",
    "# Criando o gráfico de barras\n",
    "plt.figure(figsize=(8, 5))\n",
    "plt.bar(categorias, notas, color='skyblue')\n",
    "plt.ylim(0, 5)\n",
    "plt.title('Suas Notas para o Curso de Bioinformática')\n",
    "plt.ylabel('Notas (0 a 5)')\n",
    "plt.show()\n",
    "\n",
    "# Mensagem para download e envio\n",
    "print(\"Baixe o gráfico e envie para: bioinformatica_curso@universidade.edu\")"
   ]
  },
  {
   "cell_type": "markdown",
   "id": "a2933501",
   "metadata": {},
   "source": [
    "\n",
    "## 📚 Recursos e Tutoriais Importantes\n",
    "\n",
    "![Program](prog1.png) \n",
    "\n",
    "Aqui estão alguns recursos essenciais para você explorar antes do curso:\n",
    "\n",
    "- [NCBI - National Center for Biotechnology Information](https://www.ncbi.nlm.nih.gov/)\n",
    "- [EMBL-EBI - European Bioinformatics Institute](https://www.ebi.ac.uk/)\n",
    "- [Tutorial Galaxy Project](https://galaxyproject.org/tutorials/)\n",
    "- [PubMed - Base de Dados de Literatura Biomédica](https://pubmed.ncbi.nlm.nih.gov/)\n",
    "\n",
    "Esses recursos serão úteis durante o curso, então não deixe de explorá-los! 📖\n"
   ]
  }
 ],
 "metadata": {
  "kernelspec": {
   "display_name": "Python 3",
   "language": "python",
   "name": "python3"
  },
  "language_info": {
   "codemirror_mode": {
    "name": "ipython",
    "version": 3
   },
   "file_extension": ".py",
   "mimetype": "text/x-python",
   "name": "python",
   "nbconvert_exporter": "python",
   "pygments_lexer": "ipython3",
   "version": "3.11.0"
  }
 },
 "nbformat": 4,
 "nbformat_minor": 5
}
