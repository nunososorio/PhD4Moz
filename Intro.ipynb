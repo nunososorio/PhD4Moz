{
  "cells": [
    {
      "cell_type": "markdown",
      "metadata": {},
      "source": [
        "# 🌍 Introduction to MalariaGEN Database",
        "Welcome to this introductory session on the MalariaGEN database! 🎉 Today, we'll be focusing on the **Plasmodium falciparum version 7 (Pf7) project**. This project is a global collaboration between multiple MalariaGEN projects and includes data from 82 studies around the world. The data includes sample metadata and single nucleotide polymorphism (SNP) calls."
      ]
    },
    {
      "cell_type": "markdown",
      "metadata": {},
      "source": [
        "## 🐍 Advantages of Python",
        "Python is a powerful and flexible programming language that's excellent for data analysis. It's open-source, which means it's free to use and has a large, active community of users who can help answer questions and solve problems. Python also has a number of libraries, like pandas and NumPy, which provide high-level data structures and data analysis tools. This makes it a great language for accessing and analyzing the MalariaGEN data. 📊"
      ]
    },
    {
      "cell_type": "markdown",
      "metadata": {},
      "source": [
        "## ☁️ Google Colab",
        "Google Colab is a free cloud service that provides an environment where you can develop deep learning applications using popular libraries such as TensorFlow, PyTorch, Keras, and OpenCV. One of the main benefits of using Google Colab is that it offers free GPU and TPU (Tensor Processing Unit) service. 💻"
      ]
    },
    {
      "cell_type": "markdown",
      "metadata": {},
      "source": [
        "## 📚 Accessing Pf7 Data",
        "The Pf7 data is stored on Google Cloud. To access it, we'll use the `malariagen_data` Python package. This package is experimental, so please let us know if you find any bugs or have any suggestions. 🐞"
      ]
    },
    {
      "cell_type": "code",
      "execution_count": null,
      "metadata": {},
      "outputs": [],
      "source": [
        "!pip install -q --no-warn-conflicts malariagen_data",
        "import malariagen_data",
        "pf7 = malariagen_data.Pf7()"
      ]
    },
    {
      "cell_type": "markdown",
      "metadata": {},
      "source": [
        "## 📝 Loading Sample Metadata",
        "The sample metadata includes information about the samples that were sequenced as part of this resource. It includes the time and place of collection, quality metrics, and accession numbers. We can load this metadata into a pandas dataframe for easy analysis. 🧪"
      ]
    },
    {
      "cell_type": "code",
      "execution_count": null,
      "metadata": {},
      "outputs": [],
      "source": [
        "pf7_metadata = pf7.sample_metadata()",
        "pf7_metadata.head()"
      ]
    },
    {
      "cell_type": "markdown",
      "metadata": {},
      "source": [
        "## 🌍 Focusing on Mozambique",
        "As our students are from Mozambique, let's focus our analysis on samples from this country. We can use the pandas package to filter our data. 🇲🇿"
      ]
    },
    {
      "cell_type": "code",
      "execution_count": null,
      "metadata": {},
      "outputs": [],
      "source": [
        "mozambique_samples = pf7_metadata[pf7_metadata['Country'] == 'Mozambique']",
        "mozambique_samples.head()"
      ]
    }
  ],
  "metadata": {
    "kernelspec": {
      "display_name": "Python 3",
      "language": "python",
      "name": "python3"
    },
    "language_info": {
      "codemirror_mode": {
        "name": "ipython",
        "version": 3
      },
      "file_extension": ".py",
      "mimetype": "text/x-python",
      "name": "python",
      "nbconvert_exporter": "python",
      "pygments_lexer": "ipython3",
      "version": "3.8.5"
    }
  },
  "nbformat": 4,
  "nbformat_minor": 4
}
