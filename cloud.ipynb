{
  "cells": [
    {
      "cell_type": "markdown",
      "metadata": {
        "id": "7rV6SjyhFkkK"
      },
      "source": [
        "# Simplificando a Bioinformática com a Nuvem: Um Guia para Iniciantes sobre Colab e Galaxy\n",
        "\n",
        "**Versão interativa:** https://colab.research.google.com/github/nunososorio/PhD4Moz/blob/main/cloud.ipynb <br>\n",
        "**Facilitador:** Nuno S. Osório <br>\n",
        "**Curso:** PhD4MOZ <br>\n",
        "**Data:** 25/20/2024 <br>\n",
        "\n",
        "## Visão geral da aula\n",
        "Esta aula apresentará ferramentas na nuvem, como o Use.Galaxy e o Google Colab, como meios vantajosos para aprender fundamentos de R e Python, além de permitirem aplicar estas linguagens para a resolução de problemas da área da bioinformática sem necessidade de instalações ou computadores locais de elevada capacidade.\n",
        "\n",
        "### Objetivos de aprendizagem:\n",
        "1. Compreender a interface e funcionalidades básicas do Google Colab e Jupyter Notebooks.\n",
        "3. Conhecer o Use.Galaxy e sua aplicação em fluxos de trabalho de bioinformática.\n",
        "2. Explorar e comparar operações básicas em Python e R."
      ],
      "id": "7rV6SjyhFkkK"
    },
    {
      "cell_type": "markdown",
      "metadata": {
        "id": "5niygId1FkkR"
      },
      "source": [
        "## Parte 1: Introdução ao Google Colaboratory (Colab) e Jupyter Notebooks"
      ],
      "id": "5niygId1FkkR"
    },
    {
      "cell_type": "markdown",
      "metadata": {
        "id": "2Id5NZlAFkkS"
      },
      "source": [
        "### 🤔 O que é a **nuvem**?\n",
        "Nuvem (Cloud Computing):** Refere-se à entrega de serviços de computação - incluindo servidores, armazenamento, bancos de dados, redes, software, análise e inteligência - pela Internet (\"a nuvem\"). ☁️\n",
        "\n",
        "### 🪄 O que é o Google Colab?\n",
        "\n",
        "O Colab é como um caderno mágico online 🧙‍♂️ onde podes escrever e executar código Python ou R ✨! É gratuito e baseado na nuvem ☁️🌐.  O Colab usa um ambiente Jupyter Notebook, que te permite combinar código, texto, imagens e gráficos num único documento interativo 😮. É uma ferramenta incrível para aprender programação 🐍, analisar dados 📊, criar modelos de inteligência artificial 🤖 e muito mais!\n",
        "\n",
        "### 📓 O que é o Jupyter Notebook?\n",
        "\n",
        "Imagina um caderno digital 💻 onde podes escrever texto, como num editor de texto normal, mas também podes executar código e ver os resultados imediatamente 🤩. Isso é um Jupyter Notebook! Podes usar várias linguagens de programação, como Python 🐍 e R 📈, e o melhor é que podes combinar código com explicações, gráficos e imagens, tudo num só lugar 🖼️.\n",
        "\n",
        "Os Jupyter Notebooks são super importantes na bioinformática porque permitem que outras pessoas vejam exatamente o que fizeste e como fizeste 🤔. Isso torna a tua investigação mais transparente e fácil de reproduzir 🔄, o que é essencial para a ciência 🧪.\n",
        "\n",
        "🔁 **Reprodutibilidade:** Na ciência, a reprodutibilidade é a capacidade de obter resultados consistentes usando os mesmos dados e métodos de análise. É um princípio fundamental da boa prática científica e na bioinformática. 🔁\n",
        "\n",
        "Os Jupyter Notebook também permitem a **Partilha fácil** dos métodos(códigos) e resultados de investigação. Podes partilhar os teus notebooks com outras pessoas, como se fosse um documento Google Docs 🤝.\n",
        "\n",
        "Com a nuvem e ferramentas como Colab e Galaxy, a bioinformática torna-se mais **acessível**, **colaborativa** e **reprodutível**! 🤝\n"
      ],
      "id": "2Id5NZlAFkkS"
    },
    {
      "cell_type": "markdown",
      "source": [
        "### No Colab podemos facilmente criar novas células de código ou de texto:"
      ],
      "metadata": {
        "id": "L8nxmkYY8Kno"
      },
      "id": "L8nxmkYY8Kno"
    },
    {
      "cell_type": "code",
      "metadata": {
        "id": "qM8RqM-8FkkT"
      },
      "source": [
        "# Vamos começar com um exemplo com código python\n",
        "print(\"\")\n",
        "\n",
        "F =\n",
        "SF =\n",
        "print(f\"A soma das pessoas que comeram ({F}) e das que não comeram ({SF}) é: {F + SF}\")"
      ],
      "execution_count": null,
      "outputs": [],
      "id": "qM8RqM-8FkkT"
    },
    {
      "cell_type": "markdown",
      "metadata": {
        "id": "SFxWWV62FkkU"
      },
      "source": [
        "## Section 2: Fundamentals of R and Python\n",
        "R and Python are two of the most popular programming languages for data science and scientific research. Although they differ in syntax and some capabilities, they share common principles when it comes to handling data and performing calculations."
      ],
      "id": "SFxWWV62FkkU"
    },
    {
      "cell_type": "markdown",
      "metadata": {
        "id": "ceom_meQFkkV"
      },
      "source": [
        "### Example: DataFrames in Python and R\n",
        "DataFrames are used to store tabular data. Here is how you can create a DataFrame in Python using the `pandas` library."
      ],
      "id": "ceom_meQFkkV"
    },
    {
      "cell_type": "code",
      "metadata": {
        "id": "PHEhK1GoFkkV"
      },
      "source": [
        "# Python example: Creating a DataFrame\n",
        "import pandas as pd\n",
        "\n",
        "data = {'Name': ['John', 'Jane', 'Alice', 'Bob'],\n",
        "        'Age': [23, 25, 30, 35]}\n",
        "df_python = pd.DataFrame(data)\n",
        "print(\"Python DataFrame:\")\n",
        "print(df_python)"
      ],
      "execution_count": null,
      "outputs": [],
      "id": "PHEhK1GoFkkV"
    },
    {
      "cell_type": "markdown",
      "metadata": {
        "id": "Edq3zUjDFkkW"
      },
      "source": [
        "In R, the equivalent would be:\n",
        "```r\n",
        "data <- data.frame(Name = c('John', 'Jane', 'Alice', 'Bob'), Age = c(23, 25, 30, 35))\n",
        "print(data)\n",
        "```\n",
        "You can try this code in RStudio."
      ],
      "id": "Edq3zUjDFkkW"
    },
    {
      "cell_type": "markdown",
      "metadata": {
        "id": "tQiL-HbaFkkX"
      },
      "source": [
        "### Exercise 2: Comparing DataFrames in Python and R\n",
        "Create a DataFrame that stores information about students (Name, Age, and Grade) in both Python (Colab) and R (RStudio). Compare the syntax and functionality."
      ],
      "id": "tQiL-HbaFkkX"
    },
    {
      "cell_type": "markdown",
      "metadata": {
        "id": "npQ-IIc5FkkX"
      },
      "source": [
        "## Section 3: Basic Operations and Functions\n",
        "Both R and Python share similarities when it comes to basic arithmetic operations, loops, and conditionals."
      ],
      "id": "npQ-IIc5FkkX"
    },
    {
      "cell_type": "code",
      "metadata": {
        "id": "a3jsSsatFkkX"
      },
      "source": [
        "# Python example: Basic conditional statement\n",
        "x = 15\n",
        "if x > 10:\n",
        "    print(f\"{x} is greater than 10\")\n",
        "else:\n",
        "    print(f\"{x} is not greater than 10\")"
      ],
      "execution_count": null,
      "outputs": [],
      "id": "a3jsSsatFkkX"
    },
    {
      "cell_type": "markdown",
      "metadata": {
        "id": "0oudABMnFkkY"
      },
      "source": [
        "In R, the equivalent would be:\n",
        "```r\n",
        "x <- 15\n",
        "if (x > 10) {\n",
        "    print(paste(x, \"is greater than 10\"))\n",
        "} else {\n",
        "    print(paste(x, \"is not greater than 10\"))\n",
        "}\n",
        "```\n",
        "Try this code in RStudio."
      ],
      "id": "0oudABMnFkkY"
    },
    {
      "cell_type": "markdown",
      "metadata": {
        "id": "lfyHaiuIFkkY"
      },
      "source": [
        "### Exercise 3: Checking Even or Odd\n",
        "Write a program in both Python (Colab) and R (RStudio) that takes a number as input from the user, checks if it's even or odd, and prints the result."
      ],
      "id": "lfyHaiuIFkkY"
    },
    {
      "cell_type": "markdown",
      "metadata": {
        "id": "sb--lfBgFkkY"
      },
      "source": [
        "## Section 4: Visualization in Python and R\n",
        "Both Python and R offer powerful libraries for data visualization. In Python, `matplotlib` is commonly used, while in R, `ggplot2` is very popular."
      ],
      "id": "sb--lfBgFkkY"
    },
    {
      "cell_type": "code",
      "metadata": {
        "id": "1b2Wj7LeFkkY"
      },
      "source": [
        "# Python example: Plotting with matplotlib\n",
        "import matplotlib.pyplot as plt\n",
        "\n",
        "x = [1, 2, 3, 4, 5]\n",
        "y = [10, 20, 25, 30, 35]\n",
        "plt.plot(x, y)\n",
        "plt.title(\"Simple Line Plot\")\n",
        "plt.xlabel(\"X axis\")\n",
        "plt.ylabel(\"Y axis\")\n",
        "plt.show()"
      ],
      "execution_count": null,
      "outputs": [],
      "id": "1b2Wj7LeFkkY"
    },
    {
      "cell_type": "markdown",
      "metadata": {
        "id": "f_xTfKDhFkkY"
      },
      "source": [
        "In R, you can use `ggplot2` for visualizations:\n",
        "```r\n",
        "library(ggplot2)\n",
        "ggplot(data, aes(x=Name, y=Age)) + geom_bar(stat=\"identity\") + ggtitle(\"Bar Plot of Age by Name\")\n",
        "```\n",
        "Try this in RStudio."
      ],
      "id": "f_xTfKDhFkkY"
    },
    {
      "cell_type": "markdown",
      "metadata": {
        "id": "uMiKBNhRFkkZ"
      },
      "source": [
        "### Exercise 4: Visualization\n",
        "Create a plot that shows the growth of a dataset over time (e.g., monthly sales) in both Python and R. Compare the plotting libraries and their ease of use."
      ],
      "id": "uMiKBNhRFkkZ"
    },
    {
      "cell_type": "markdown",
      "metadata": {
        "id": "4N-PmY7SFkkZ"
      },
      "source": [
        "## Section 5: Introduction to Galaxy\n",
        "Galaxy is an open-source platform for bioinformatics research, providing accessible, reproducible, and transparent computational analyses. You can perform complex workflows like genome analysis, RNA-seq, and much more without needing deep programming knowledge.\n",
        "\n",
        "### Getting Started with Galaxy\n",
        "- Visit [usegalaxy.org](https://usegalaxy.org/)\n",
        "- Create an account and explore its tools and workflows.\n",
        "- You can upload your own data or use public datasets to run analysis pipelines such as mapping, assembly, and variant calling."
      ],
      "id": "4N-PmY7SFkkZ"
    },
    {
      "cell_type": "markdown",
      "metadata": {
        "id": "xH68OueEFkkZ"
      },
      "source": [
        "### Exercise 5: Bioinformatics with Galaxy\n",
        "Explore Galaxy and try running a basic workflow such as read alignment or variant calling. Compare the ease of use of Galaxy's graphical interface with scripting in Python or R for similar bioinformatics tasks."
      ],
      "id": "xH68OueEFkkZ"
    },
    {
      "cell_type": "markdown",
      "metadata": {
        "id": "NQOS1VK6FkkZ"
      },
      "source": [
        "## Homework Assignment\n",
        "Pick a dataset of your choice (from Kaggle, Galaxy, or another source) and analyze it using Python in Google Colab. Then, repeat the analysis using R in RStudio or a similar platform. Prepare a short report comparing the two workflows, highlighting what you found easier or more challenging in each environment."
      ],
      "id": "NQOS1VK6FkkZ"
    }
  ],
  "metadata": {
    "kernelspec": {
      "display_name": "Python 3",
      "language": "python",
      "name": "python3"
    },
    "language_info": {
      "name": "python",
      "version": "3.8"
    },
    "colab": {
      "provenance": []
    }
  },
  "nbformat": 4,
  "nbformat_minor": 5
}