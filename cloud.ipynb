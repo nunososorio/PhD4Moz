{
  "cells": [
    {
      "cell_type": "markdown",
      "metadata": {
        "id": "7rV6SjyhFkkK"
      },
      "source": [
        "# Simplificando a Bioinformática com a Nuvem: Um Guia para Iniciantes sobre Colab e Galaxy\n",
        "![PhD4Moz Logo](https://github.com/nunososorio/PhD4Moz/blob/main/phd4moz.png?raw=1)\n",
        "\n",
        "**Versão interativa:** https://colab.research.google.com/github/nunososorio/PhD4Moz/blob/main/cloud.ipynb <br>\n",
        "**Autor:** Nuno S. Osório <br>\n",
        "**Data:** 25/20/2024 <br>\n",
        "\n",
        "## Visão geral da aula\n",
        "Esta aula apresentará ferramentas na nuvem, como o Google Colab e o Galaxy, como meios vantajosos para aprender fundamentos de R e Python, além de permitirem aplicar estas linguagens para a resolução de problemas da área da bioinformática sem necessidade de instalações ou computadores locais de elevada capacidade.\n",
        "\n",
        "### Objetivos de aprendizagem:\n",
        "1. Compreender a interface e funcionalidades básicas do Google Colab e Jupyter Notebooks.\n",
        "2. Explorar e comparar operações básicas em Python e R.\n",
        "3. Conhecer o Use.Galaxy e sua aplicação em fluxos de trabalho de bioinformática."
      ],
      "id": "7rV6SjyhFkkK"
    },
    {
      "cell_type": "markdown",
      "metadata": {
        "id": "5niygId1FkkR"
      },
      "source": [
        "## Parte 1: Introdução ao Google Colaboratory (Colab) e Jupyter Notebooks"
      ],
      "id": "5niygId1FkkR"
    },
    {
      "cell_type": "markdown",
      "metadata": {
        "id": "2Id5NZlAFkkS"
      },
      "source": [
        "### 🤔 O que é a **nuvem**?\n",
        "**Nuvem (Cloud Computing):** Refere-se à entrega de serviços de computação - incluindo servidores, armazenamento, bancos de dados, redes, software, análise e inteligência - pela Internet (\"a nuvem\"). ☁️\n",
        "\n",
        "### 🪄 O que é o Google Colab?\n",
        "\n",
        "O Colab é como um caderno mágico online 🧙‍♂️ onde podes escrever e executar código Python ou R ✨! É gratuito e baseado na nuvem ☁️🌐.  O Colab usa um ambiente Jupyter Notebook, que te permite combinar código, texto, imagens e gráficos num único documento interativo 😮. É uma ferramenta incrível para aprender programação 🐍, analisar dados 📊, criar modelos de inteligência artificial 🤖 e muito mais!\n",
        "\n",
        "### 📓 O que é o Jupyter Notebook?\n",
        "\n",
        "Imagina um caderno digital 💻 onde podes escrever texto, como num editor de texto normal, mas também podes executar código e ver os resultados imediatamente 🤩. Isso é um Jupyter Notebook! Podes usar várias linguagens de programação, como Python 🐍 e R 📈, e o melhor é que podes combinar código com explicações, gráficos e imagens, tudo num só lugar 🖼️.\n",
        "\n",
        "Os Jupyter Notebooks são super importantes na bioinformática porque permitem que outras pessoas vejam exatamente o que fizeste e como fizeste 🤔. Isso torna a tua investigação mais transparente e fácil de reproduzir 🔄, o que é essencial para a ciência 🧪.\n",
        "\n",
        "🔁 **Reprodutibilidade:** Na ciência, a reprodutibilidade é a capacidade de obter resultados consistentes usando os mesmos dados e métodos de análise. É um princípio fundamental da boa prática científica e na bioinformática. 🔁\n",
        "\n",
        "Os Jupyter Notebook também permitem a **Partilha fácil** dos métodos(códigos) e resultados de investigação. Podes partilhar os teus notebooks com outras pessoas, como se fosse um documento Google Docs 🤝.\n",
        "\n",
        "Com a nuvem e ferramentas como Colab e Galaxy, a bioinformática torna-se mais **acessível**, **colaborativa** e **reprodutível**! 🤝\n"
      ],
      "id": "2Id5NZlAFkkS"
    },
    {
      "cell_type": "markdown",
      "source": [
        "No Colab podemos facilmente criar novas células de texto ou de código e executar o código vendo os resultados na secção seguinte. Vamos ver um exemplo simples:"
      ],
      "metadata": {
        "id": "L8nxmkYY8Kno"
      },
      "id": "L8nxmkYY8Kno"
    },
    {
      "cell_type": "code",
      "metadata": {
        "id": "qM8RqM-8FkkT"
      },
      "source": [
        "# Vamos começar com um exemplo com código python\n",
        "print(\"\")\n",
        "F =\n",
        "SF =\n",
        "print(f\"A soma das pessoas que comeram francesinha ({F}) e das que não comeram ({SF}) é: {F + SF}\")"
      ],
      "execution_count": null,
      "outputs": [],
      "id": "qM8RqM-8FkkT"
    },
    {
      "cell_type": "markdown",
      "metadata": {
        "id": "SFxWWV62FkkU"
      },
      "source": [
        "### Parte 1.2. Princípios de R e Python\n",
        "R e Python são as duas das linguagens de programação mais populares na bioinformática. Apesar de diferirem em sintaxe e em algumas capacidades, elas partilham muitos princípios comuns e ambas podem ser executadas num Notebook.\n",
        "\n",
        "Tanto R como Python possuem um vasto ecossistema de bibliotecas e pacotes, que são conjuntos de funções e ferramentas pré-construídas. Estes recursos podem ser facilmente incorporados nos nossos próprios códigos, facilitando e acelerando as análises.\n",
        "\n",
        "**Em Python**, estas coleções são geralmente referidas como **bibliotecas** ou **módulos** e são importadas usando a palavra-chave `import`.\n",
        "\n",
        "**Em R**, o termo equivalente é **pacotes**, que são instalados e carregados usando funções como `install.packages()` e `library()`\n",
        "\n",
        "Ao longo deste curso, irão explorar diversas bibliotecas e pacotes relevantes para a bioinformática, tanto em Python como em R, que estão na base de diversas aplicações usadas para realizar análises complexas forma eficaz."
      ],
      "id": "SFxWWV62FkkU"
    },
    {
      "cell_type": "markdown",
      "metadata": {
        "id": "ceom_meQFkkV"
      },
      "source": [
        "#### Exemplo 1: DataFrames em Python e R\n",
        "DataFrames são usados para armazenar dados em tipo de tabela. <br> Em seguida vamos ver um exemplo de como criar um DataFrame no Python usando a biblioteca `pandas`."
      ],
      "id": "ceom_meQFkkV"
    },
    {
      "cell_type": "code",
      "metadata": {
        "id": "PHEhK1GoFkkV"
      },
      "source": [
        "# Importar a biblioteca\n",
        "import pandas as pd\n",
        "\n",
        "# Criar um dicionário\n",
        "data = {'Nome': ['Miguel', 'Ana', 'Fernanda', 'Francisca'],\n",
        "        'Idade': [23, 25, 30, 35]}\n",
        "\n",
        "# Criar o daframe using a biblioteca pandas (pd)\n",
        "df_python = pd.DataFrame(data)\n",
        "print(\"Python DataFrame:\")\n",
        "print(df_python)"
      ],
      "execution_count": null,
      "outputs": [],
      "id": "PHEhK1GoFkkV"
    },
    {
      "cell_type": "markdown",
      "metadata": {
        "id": "Edq3zUjDFkkW"
      },
      "source": [
        "Em R, o código equivalente seria:\n",
        "```r\n",
        "data <- data.frame(Nome = c('Miguel', 'Ana', 'Fernanda', 'Francisca'), Age = c(23, 25, 30, 35))\n",
        "print(data)\n",
        "```\n",
        "Podemos correr este código neste notebook mas para isso temos de mudar a sessão no Colab de python para R.\n",
        "\n",
        "![image.png](data:image/png;base64,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)"
      ],
      "id": "Edq3zUjDFkkW"
    },
    {
      "cell_type": "code",
      "source": [
        "data <- data.frame(Nome = c('Miguel', 'Ana', 'Fernanda', 'Francisca'), Age = c(23, 25, 30, 35))\n",
        "print(data)"
      ],
      "metadata": {
        "id": "hxdkFWQrL9GG"
      },
      "id": "hxdkFWQrL9GG",
      "execution_count": null,
      "outputs": []
    },
    {
      "cell_type": "markdown",
      "source": [
        "🤩 Não é ótimo correr código python ou R sem ter de fazer nenhuma instalação? Conseguem identificar alguma diferença nos resultados? 🤔"
      ],
      "metadata": {
        "id": "CVgYbl1dMos6"
      },
      "id": "CVgYbl1dMos6"
    },
    {
      "cell_type": "markdown",
      "metadata": {
        "id": "sb--lfBgFkkY"
      },
      "source": [
        "#### Exemplo 2: Visualização de dados em Python e R\n",
        "Tanto o Python como o R oferecem poderosos \"programas já feitos\" (\"bibliotecas\", \"módulos\", \"pacotes\") para visualização de dados. No Python, um dos mais usados é o `matplotlib`, no R, `ggplot2`. Vamos explorar um exemplo com cada. <br>\n",
        "\n",
        "**⚠️Antes do correr o código temos que nos assegurar que a nossa sessão no Colab esta a correr a linguagem (Python ou R) que queremos⚠️**"
      ],
      "id": "sb--lfBgFkkY"
    },
    {
      "cell_type": "code",
      "metadata": {
        "id": "1b2Wj7LeFkkY"
      },
      "source": [
        "# Repetição do código anterior uma vez que iniciamos uma nova sessão\n",
        "import pandas as pd\n",
        "data = {'Nome': ['Miguel', 'Ana', 'Fernanda', 'Francisca'],\n",
        "        'Idade': [23, 25, 30, 35]}\n",
        "df_python = pd.DataFrame(data)\n",
        "\n",
        "# Fazer um gráfico simples com o matplotlib\n",
        "import matplotlib.pyplot as plt\n",
        "\n",
        "plt.figure(figsize=(8, 6))\n",
        "plt.bar(df_python['Nome'], df_python['Idade'])\n",
        "plt.xlabel(\"Nome\")\n",
        "plt.ylabel(\"Idade\")\n",
        "plt.title(\"Idade das pessoas\")\n",
        "plt.xticks(rotation=45, ha='right')\n",
        "plt.tight_layout()\n",
        "plt.show()"
      ],
      "execution_count": null,
      "outputs": [],
      "id": "1b2Wj7LeFkkY"
    },
    {
      "cell_type": "markdown",
      "metadata": {
        "id": "f_xTfKDhFkkY"
      },
      "source": [
        "No R, podemos usar o `ggplot2` para fazer uma visualização semelhante.\n",
        "\n",
        "**⚠️Antes do correr o código temos que nos assegurar que a nossa sessão no Colab esta a correr a linguagem (Python ou R) que queremos⚠️**"
      ],
      "id": "f_xTfKDhFkkY"
    },
    {
      "cell_type": "code",
      "source": [
        "# Instalar e carregar o pacote ggplot2, se necessário\n",
        "if (!require(\"ggplot2\")) install.packages(\"ggplot2\")\n",
        "library(ggplot2)\n",
        "\n",
        "# Criar o DataFrame\n",
        "df_r <- data.frame(Nome = c('Miguel', 'Ana', 'Fernanda', 'Francisca'),\n",
        "                   Idade = c(23, 25, 30, 35))\n",
        "\n",
        "# Criar o gráfico com ggplot2\n",
        "ggplot(df_r, aes(x = Nome, y = Idade)) +\n",
        "  geom_bar(stat = \"identity\") +  # stat = \"identity\" para usar os valores de 'Idade' diretamente\n",
        "  labs(title = \"Idade das pessoas\", x = \"Nome\", y = \"Idade\") +  # Definir os títulos\n",
        "  theme(axis.text.x = element_text(angle = 45, hjust = 1))  # Rotacionar os rótulos do eixo x"
      ],
      "metadata": {
        "id": "SqIVfehvQsDR"
      },
      "id": "SqIVfehvQsDR",
      "execution_count": null,
      "outputs": []
    },
    {
      "cell_type": "markdown",
      "source": [
        "## Parte 2: Introdução ao Galaxy"
      ],
      "metadata": {
        "id": "C5Ymx12PUNdO"
      },
      "id": "C5Ymx12PUNdO"
    },
    {
      "cell_type": "markdown",
      "metadata": {
        "id": "4N-PmY7SFkkZ"
      },
      "source": [
        "O Galaxy é uma plataforma de código aberto para investigação em bioinformática, que disponibiliza análises computacionais, acessíveis através de uma interface web intuitiva, executadas em servidores na nuvem. ☁️ Esta plataforma, embora corra programas baseados em código R, facilita a análise de dados, eliminando a necessidade de escrever ou modificar código diretamente. 📝 Através do Galaxy, é possível executar fluxos de trabalho complexos, como análise de genomas, RNA-seq e muito mais, mesmo sem conhecimentos de programação. 🧬💻\n",
        "\n",
        "Conseguem indicar uma possível desvantagem? 🤔\n",
        "\n",
        "\n",
        "### Vamos explorar a Galaxy 🚀\n",
        "\n",
        "- Visitem o site https://usegalaxy.org/\n",
        "- Crie uma conta 🧰"
      ],
      "id": "4N-PmY7SFkkZ"
    },
    {
      "cell_type": "markdown",
      "metadata": {
        "id": "NQOS1VK6FkkZ"
      },
      "source": [
        "### Trabalho para continuar em casa\n",
        "\n",
        "Explorar este Tutorial: Análise e Anotação de Dados NGS de *Mycobacterium tuberculosis* no Galaxy 🧬\n",
        "\n",
        "- **Tutorial**:  \n",
        "  [Variant Analysis of *Mycobacterium tuberculosis* Data on Galaxy](https://training.galaxyproject.org/training-material/topics/variant-analysis/tutorials/tb-variant-analysis/tutorial.html)  \n",
        "  _Este tutorial abrange todo o processo, desde o alinhamento das leituras até à identificação de variantes e sua anotação. Procura executar e entender cada uma das etapas principais do processo. Na próxima sessão iremos aprofundar este tópico._\n"
      ],
      "id": "NQOS1VK6FkkZ"
    },
    {
      "cell_type": "markdown",
      "source": [
        "Nuno S. Osório (C) 2024"
      ],
      "metadata": {
        "id": "2kZNrcK0VpRu"
      },
      "id": "2kZNrcK0VpRu"
    }
  ],
  "metadata": {
    "kernelspec": {
      "display_name": "Python 3",
      "name": "python3"
    },
    "language_info": {
      "name": "python"
    },
    "colab": {
      "provenance": []
    }
  },
  "nbformat": 4,
  "nbformat_minor": 5
}