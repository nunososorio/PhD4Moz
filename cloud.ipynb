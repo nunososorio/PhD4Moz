{
 "cells": [
  {
   "cell_type": "markdown",
   "metadata": {},
   "source": [
    "# Google Colab, Jupyter Notebooks, Fundamentals of R and Python, and Galaxy\n",
    "**Instructor:** Nuno S. Osório \n",
    "**Course:** PhD4MOZ\n",
    "\n",
    "## Class Overview\n",
    "This class introduces Google Colab, Jupyter Notebooks, the basics of R and Python, and an introduction to the Galaxy platform for bioinformatics analysis.\n",
    "\n",
    "### Learning Objectives:\n",
    "1. Understand the basic interface and functionality of Google Colab and Jupyter Notebooks.\n",
    "2. Explore and compare basic operations in Python and R.\n",
    "3. Learn about Galaxy and its use in bioinformatics workflows."
   ]
  },
  {
   "cell_type": "markdown",
   "metadata": {},
   "source": [
    "## Section 1: Introduction to Google Colab and Jupyter Notebooks"
   ]
  },
  {
   "cell_type": "markdown",
   "metadata": {},
   "source": [
    "### What is Google Colab?\n",
    "Google Colab is a free cloud-based service that lets you write and execute Python code in a Jupyter Notebook environment. It's a great tool for data science, machine learning, and research.\n",
    "\n",
    "### What is Jupyter Notebook?\n",
    "Jupyter Notebooks are open-source web applications that allow for live code, visualizations, and explanatory text all in one place."
   ]
  },
  {
   "cell_type": "code",
   "metadata": {},
   "source": [
    "# Let's start with a simple Python example in Google Colab\n",
    "print(\"Hello, PhD4MOZ class!\")\n",
    "\n",
    "x = 10\n",
    "y = 20\n",
    "print(f\"The sum of {x} and {y} is: {x + y}\")"
   ],
   "execution_count": null,
   "outputs": []
  },
  {
   "cell_type": "markdown",
   "metadata": {},
   "source": [
    "### Exercise 1: Python Practice in Colab\n",
    "Write a Python program in Colab that calculates the area of a circle given its radius. Use the formula: $\\text{area} = \\pi r^2$. (You can use `math.pi` for the value of $\\pi$.)"
   ]
  },
  {
   "cell_type": "markdown",
   "metadata": {},
   "source": [
    "## Section 2: Fundamentals of R and Python\n",
    "R and Python are two of the most popular programming languages for data science and scientific research. Although they differ in syntax and some capabilities, they share common principles when it comes to handling data and performing calculations."
   ]
  },
  {
   "cell_type": "markdown",
   "metadata": {},
   "source": [
    "### Example: DataFrames in Python and R\n",
    "DataFrames are used to store tabular data. Here is how you can create a DataFrame in Python using the `pandas` library."
   ]
  },
  {
   "cell_type": "code",
   "metadata": {},
   "source": [
    "# Python example: Creating a DataFrame\n",
    "import pandas as pd\n",
    "\n",
    "data = {'Name': ['John', 'Jane', 'Alice', 'Bob'],\n",
    "        'Age': [23, 25, 30, 35]}\n",
    "df_python = pd.DataFrame(data)\n",
    "print(\"Python DataFrame:\")\n",
    "print(df_python)"
   ],
   "execution_count": null,
   "outputs": []
  },
  {
   "cell_type": "markdown",
   "metadata": {},
   "source": [
    "In R, the equivalent would be:\n",
    "```r\n",
    "data <- data.frame(Name = c('John', 'Jane', 'Alice', 'Bob'), Age = c(23, 25, 30, 35))\n",
    "print(data)\n",
    "```\n",
    "You can try this code in RStudio."
   ]
  },
  {
   "cell_type": "markdown",
   "metadata": {},
   "source": [
    "### Exercise 2: Comparing DataFrames in Python and R\n",
    "Create a DataFrame that stores information about students (Name, Age, and Grade) in both Python (Colab) and R (RStudio). Compare the syntax and functionality."
   ]
  },
  {
   "cell_type": "markdown",
   "metadata": {},
   "source": [
    "## Section 3: Basic Operations and Functions\n",
    "Both R and Python share similarities when it comes to basic arithmetic operations, loops, and conditionals."
   ]
  },
  {
   "cell_type": "code",
   "metadata": {},
   "source": [
    "# Python example: Basic conditional statement\n",
    "x = 15\n",
    "if x > 10:\n",
    "    print(f\"{x} is greater than 10\")\n",
    "else:\n",
    "    print(f\"{x} is not greater than 10\")"
   ],
   "execution_count": null,
   "outputs": []
  },
  {
   "cell_type": "markdown",
   "metadata": {},
   "source": [
    "In R, the equivalent would be:\n",
    "```r\n",
    "x <- 15\n",
    "if (x > 10) {\n",
    "    print(paste(x, \"is greater than 10\"))\n",
    "} else {\n",
    "    print(paste(x, \"is not greater than 10\"))\n",
    "}\n",
    "```\n",
    "Try this code in RStudio."
   ]
  },
  {
   "cell_type": "markdown",
   "metadata": {},
   "source": [
    "### Exercise 3: Checking Even or Odd\n",
    "Write a program in both Python (Colab) and R (RStudio) that takes a number as input from the user, checks if it's even or odd, and prints the result."
   ]
  },
  {
   "cell_type": "markdown",
   "metadata": {},
   "source": [
    "## Section 4: Visualization in Python and R\n",
    "Both Python and R offer powerful libraries for data visualization. In Python, `matplotlib` is commonly used, while in R, `ggplot2` is very popular."
   ]
  },
  {
   "cell_type": "code",
   "metadata": {},
   "source": [
    "# Python example: Plotting with matplotlib\n",
    "import matplotlib.pyplot as plt\n",
    "\n",
    "x = [1, 2, 3, 4, 5]\n",
    "y = [10, 20, 25, 30, 35]\n",
    "plt.plot(x, y)\n",
    "plt.title(\"Simple Line Plot\")\n",
    "plt.xlabel(\"X axis\")\n",
    "plt.ylabel(\"Y axis\")\n",
    "plt.show()"
   ],
   "execution_count": null,
   "outputs": []
  },
  {
   "cell_type": "markdown",
   "metadata": {},
   "source": [
    "In R, you can use `ggplot2` for visualizations:\n",
    "```r\n",
    "library(ggplot2)\n",
    "ggplot(data, aes(x=Name, y=Age)) + geom_bar(stat=\"identity\") + ggtitle(\"Bar Plot of Age by Name\")\n",
    "```\n",
    "Try this in RStudio."
   ]
  },
  {
   "cell_type": "markdown",
   "metadata": {},
   "source": [
    "### Exercise 4: Visualization\n",
    "Create a plot that shows the growth of a dataset over time (e.g., monthly sales) in both Python and R. Compare the plotting libraries and their ease of use."
   ]
  },
  {
   "cell_type": "markdown",
   "metadata": {},
   "source": [
    "## Section 5: Introduction to Galaxy\n",
    "Galaxy is an open-source platform for bioinformatics research, providing accessible, reproducible, and transparent computational analyses. You can perform complex workflows like genome analysis, RNA-seq, and much more without needing deep programming knowledge.\n",
    "\n",
    "### Getting Started with Galaxy\n",
    "- Visit [usegalaxy.org](https://usegalaxy.org/)\n",
    "- Create an account and explore its tools and workflows.\n",
    "- You can upload your own data or use public datasets to run analysis pipelines such as mapping, assembly, and variant calling."
   ]
  },
  {
   "cell_type": "markdown",
   "metadata": {},
   "source": [
    "### Exercise 5: Bioinformatics with Galaxy\n",
    "Explore Galaxy and try running a basic workflow such as read alignment or variant calling. Compare the ease of use of Galaxy's graphical interface with scripting in Python or R for similar bioinformatics tasks."
   ]
  },
  {
   "cell_type": "markdown",
   "metadata": {},
   "source": [
    "## Homework Assignment\n",
    "Pick a dataset of your choice (from Kaggle, Galaxy, or another source) and analyze it using Python in Google Colab. Then, repeat the analysis using R in RStudio or a similar platform. Prepare a short report comparing the two workflows, highlighting what you found easier or more challenging in each environment."
   ]
  }
 ],
 "metadata": {
  "kernelspec": {
   "display_name": "Python 3",
   "language": "python",
   "name": "python3"
  },
  "language_info": {
   "name": "python",
   "version": "3.8"
  }
 },
 "nbformat": 4,
 "nbformat_minor": 5
}
